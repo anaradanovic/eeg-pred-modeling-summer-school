{
 "cells": [
  {
   "cell_type": "code",
   "execution_count": 1,
   "id": "expired-hazard",
   "metadata": {},
   "outputs": [
    {
     "name": "stderr",
     "output_type": "stream",
     "text": [
      "/Users/dengeman/miniforge3-arm/lib/python3.9/site-packages/numba/cpython/hashing.py:484: UserWarning: FNV hashing is not implemented in Numba. See PEP 456 https://www.python.org/dev/peps/pep-0456/ for rationale over not using FNV. Numba will continue to work, but hashes for built in types will be computed using siphash24. This will permit e.g. dictionaries to continue to behave as expected, however anything relying on the value of the hash opposed to hash as a derived property is likely to not work as expected.\n",
      "  warnings.warn(msg)\n"
     ]
    }
   ],
   "source": [
    "import numpy as np\n",
    "import pandas as pd\n",
    "import matplotlib.pyplot as plt\n",
    "\n",
    "import mne"
   ]
  },
  {
   "cell_type": "code",
   "execution_count": 2,
   "id": "plastic-tunisia",
   "metadata": {},
   "outputs": [],
   "source": [
    "# some viz config\n",
    "small_size, medium_size, bigger_size = 13, 18, 18\n",
    "\n",
    "plt.rc('font', size=small_size)          # controls default text sizes\n",
    "plt.rc('axes', titlesize=small_size)     # fontsize of the axes title\n",
    "plt.rc('axes', labelsize=medium_size)    # fontsize of the x and y labels\n",
    "plt.rc('xtick', labelsize=small_size)    # fontsize of the tick labels\n",
    "plt.rc('ytick', labelsize=small_size)    # fontsize of the tick labels\n",
    "plt.rc('legend', fontsize=small_size)    # legend fontsize\n",
    "plt.rc('figure', titlesize=bigger_size)  # fontsize of the figure title"
   ]
  },
  {
   "cell_type": "markdown",
   "id": "applied-construction",
   "metadata": {},
   "source": [
    "## Let's start all over again\n",
    "\n",
    "We will just read in the data as we did before, this time focusing on covariance matrices which, when combined with more advanced feature modeling, may improve performance"
   ]
  },
  {
   "cell_type": "code",
   "execution_count": 3,
   "id": "intense-motion",
   "metadata": {},
   "outputs": [
    {
     "data": {
      "text/plain": [
       "Index(['sub-CBM00254', 'sub-CBM00181', 'sub-CBM00222', 'sub-CBM00104',\n",
       "       'sub-CBM00244', 'sub-CBM00093', 'sub-CBM00036', 'sub-CBM00142',\n",
       "       'sub-CBM00160', 'sub-CBM00185',\n",
       "       ...\n",
       "       'sub-CBM00085', 'sub-CBM00015', 'sub-CBM00131', 'sub-CBM00065',\n",
       "       'sub-CBM00192', 'sub-CBM00111', 'sub-CBM00103', 'sub-CBM00076',\n",
       "       'sub-CBM00243', 'sub-CBM00228'],\n",
       "      dtype='object', name='Code', length=282)"
      ]
     },
     "execution_count": 3,
     "metadata": {},
     "output_type": "execute_result"
    }
   ],
   "source": [
    "from sklearn.model_selection import train_test_split\n",
    "\n",
    "\n",
    "df_demographics = pd.read_csv('./inputs/Demographic_data.csv', header=1)\n",
    "\n",
    "# remove empty columns\n",
    "df_demographics = df_demographics.iloc[:, :5].set_index('Code')\n",
    "df_demographics\n",
    "\n",
    "\n",
    "# The later code uses the prefix \"sub-\" in the participants identifier, we will add it here to be fine\n",
    "\n",
    "df_demographics.index = \"sub-\" + df_demographics.index\n",
    "df_demographics.index"
   ]
  },
  {
   "cell_type": "code",
   "execution_count": 4,
   "id": "corporate-homeless",
   "metadata": {},
   "outputs": [
    {
     "data": {
      "text/plain": [
       "0      sub-CBM00254\n",
       "1      sub-CBM00181\n",
       "2      sub-CBM00222\n",
       "3      sub-CBM00104\n",
       "4      sub-CBM00244\n",
       "           ...     \n",
       "245    sub-CBM00192\n",
       "246    sub-CBM00111\n",
       "247    sub-CBM00103\n",
       "248    sub-CBM00076\n",
       "249    sub-CBM00228\n",
       "Name: subject, Length: 249, dtype: object"
      ]
     },
     "execution_count": 4,
     "metadata": {},
     "output_type": "execute_result"
    }
   ],
   "source": [
    "# now we read in the processing log to see for which participants we have EEG\n",
    "\n",
    "proc_log = pd.read_csv('./outputs/autoreject_log.csv')\n",
    "good_subjects = proc_log.query('ok == \"OK\"').subject\n",
    "good_subjects"
   ]
  },
  {
   "cell_type": "code",
   "execution_count": 5,
   "id": "efficient-billion",
   "metadata": {},
   "outputs": [],
   "source": [
    "# then we filter the demographic list accordingly and establish the same order\n",
    "\n",
    "df_demographics = df_demographics.loc[good_subjects]"
   ]
  },
  {
   "cell_type": "code",
   "execution_count": 6,
   "id": "charming-crack",
   "metadata": {},
   "outputs": [],
   "source": [
    "# Now we can put some data aside for testing and focus on 80 percent of the cases for exploring\n",
    "\n",
    "train_cases, test_cases = train_test_split(df_demographics, test_size=.20, random_state=42)"
   ]
  },
  {
   "cell_type": "markdown",
   "id": "banned-museum",
   "metadata": {},
   "source": [
    "## Read the pre-computed features\n",
    "\n",
    "We first start with the power spectra. As we read, we make sure features are stored in\n",
    "the same order as our meta info."
   ]
  },
  {
   "cell_type": "code",
   "execution_count": 7,
   "id": "arabic-allah",
   "metadata": {},
   "outputs": [
    {
     "name": "stdout",
     "output_type": "stream",
     "text": [
      "(199, 4, 53, 53)\n"
     ]
    }
   ],
   "source": [
    "features = mne.externals.h5io.read_hdf5('./outputs/features_eyes-closed.h5')\n",
    "covs = [features[sub]['covs'] for sub in train_cases.index]\n",
    "X_covs = np.array(covs)\n",
    "print(X_covs.shape)  # hooray we have an array! :D"
   ]
  },
  {
   "cell_type": "code",
   "execution_count": 8,
   "id": "restricted-corpus",
   "metadata": {},
   "outputs": [],
   "source": [
    "# But what are these dimensions?"
   ]
  },
  {
   "cell_type": "markdown",
   "id": "western-romantic",
   "metadata": {},
   "source": [
    "## Let's explore these covariances"
   ]
  },
  {
   "cell_type": "code",
   "execution_count": 9,
   "id": "placed-optics",
   "metadata": {},
   "outputs": [
    {
     "name": "stderr",
     "output_type": "stream",
     "text": [
      "<ipython-input-9-2d0906e51bf0>:1: SettingWithCopyWarning: \n",
      "A value is trying to be set on a copy of a slice from a DataFrame.\n",
      "Try using .loc[row_indexer,col_indexer] = value instead\n",
      "\n",
      "See the caveats in the documentation: https://pandas.pydata.org/pandas-docs/stable/user_guide/indexing.html#returning-a-view-versus-a-copy\n",
      "  train_cases['age_group'] = pd.cut(train_cases.Age, 4)\n"
     ]
    }
   ],
   "source": [
    "train_cases['age_group'] = pd.cut(train_cases.Age, 4)"
   ]
  },
  {
   "cell_type": "code",
   "execution_count": 10,
   "id": "sonic-leadership",
   "metadata": {},
   "outputs": [],
   "source": [
    "# now we can do a group by after setting the index to range\n",
    "train_cases = train_cases.reset_index()"
   ]
  },
  {
   "cell_type": "code",
   "execution_count": 11,
   "id": "promotional-heating",
   "metadata": {},
   "outputs": [
    {
     "data": {
      "image/png": "[encoded data removed]",
      "text/plain": [
       "<Figure size 1008x648 with 8 Axes>"
      ]
     },
     "metadata": {
      "needs_background": "light"
     },
     "output_type": "display_data"
    }
   ],
   "source": [
    "from mpl_toolkits.axes_grid1 import make_axes_locatable\n",
    "\n",
    "color = plt.cm.viridis(np.linspace(0.1, 0.9, 4))\n",
    "fig, axes = plt.subplots(1, 4, figsize=(14, 9))\n",
    "for ii, (key, inds) in enumerate(train_cases.groupby('age_group').groups.items()):\n",
    "    im = axes[ii].matshow(X_covs[inds][1].mean(0), cmap='RdBu')\n",
    "    axes[ii].set_title(f'Age in {key}')\n",
    "    divider = make_axes_locatable(axes[ii])\n",
    "    cax = divider.append_axes('right', size='5%', pad=0.2)\n",
    "    fig.colorbar(im, cax=cax)\n",
    "\n",
    "fig.tight_layout()"
   ]
  },
  {
   "cell_type": "markdown",
   "id": "electronic-special",
   "metadata": {},
   "source": [
    "What we see here suggests there is highly structured noise, this looks atypical. **If you see something like this please go back to your preprocessing work and figure out what causes it.**"
   ]
  },
  {
   "cell_type": "markdown",
   "id": "quarterly-spirituality",
   "metadata": {},
   "source": [
    "# A more advanced model\n",
    "\n",
    "Shall we still try to see if a more sophisticated model can do the job? Let's pretend we have not seen anything.\n",
    "\n",
    "Now the idea is to first put all thes covariances in a data frame where things become easier to handle."
   ]
  },
  {
   "cell_type": "code",
   "execution_count": 12,
   "id": "sorted-short",
   "metadata": {},
   "outputs": [],
   "source": [
    "frequency_bands = {\n",
    "    \"theta\": (4.0, 8.0),\n",
    "    \"alpha\": (8.0, 15.0),\n",
    "    \"beta_low\": (15.0, 26.0),\n",
    "    \"beta_high\": (26.0, 35.0),\n",
    "}\n",
    "\n",
    "X_df = pd.DataFrame(\n",
    "  {band: list(X_covs[:, ii]) for ii, band in enumerate(frequency_bands)})"
   ]
  },
  {
   "cell_type": "code",
   "execution_count": 13,
   "id": "varying-preparation",
   "metadata": {},
   "outputs": [
    {
     "data": {
      "text/plain": [
       "(199, 4)"
      ]
     },
     "execution_count": 13,
     "metadata": {},
     "output_type": "execute_result"
    }
   ],
   "source": [
    "X_df.shape"
   ]
  },
  {
   "cell_type": "code",
   "execution_count": 14,
   "id": "intimate-sauce",
   "metadata": {},
   "outputs": [
    {
     "data": {
      "text/plain": [
       "Index(['theta', 'alpha', 'beta_low', 'beta_high'], dtype='object')"
      ]
     },
     "execution_count": 14,
     "metadata": {},
     "output_type": "execute_result"
    }
   ],
   "source": [
    "X_df.columns"
   ]
  },
  {
   "cell_type": "code",
   "execution_count": 15,
   "id": "proved-submission",
   "metadata": {},
   "outputs": [
    {
     "data": {
      "text/html": [
       "<div>\n",
       "<style scoped>\n",
       "    .dataframe tbody tr th:only-of-type {\n",
       "        vertical-align: middle;\n",
       "    }\n",
       "\n",
       "    .dataframe tbody tr th {\n",
       "        vertical-align: top;\n",
       "    }\n",
       "\n",
       "    .dataframe thead th {\n",
       "        text-align: right;\n",
       "    }\n",
       "</style>\n",
       "<table border=\"1\" class=\"dataframe\">\n",
       "  <thead>\n",
       "    <tr style=\"text-align: right;\">\n",
       "      <th></th>\n",
       "      <th>theta</th>\n",
       "      <th>alpha</th>\n",
       "      <th>beta_low</th>\n",
       "      <th>beta_high</th>\n",
       "    </tr>\n",
       "  </thead>\n",
       "  <tbody>\n",
       "    <tr>\n",
       "      <th>0</th>\n",
       "      <td>[[9.253301751571058e-12, 8.31307414294401e-12,...</td>\n",
       "      <td>[[1.359441473560296e-11, 1.113437502887364e-11...</td>\n",
       "      <td>[[3.0879667399053564e-12, 2.0339736749184162e-...</td>\n",
       "      <td>[[2.1921357814862212e-12, 1.4935337569369765e-...</td>\n",
       "    </tr>\n",
       "    <tr>\n",
       "      <th>1</th>\n",
       "      <td>[[4.249865002541282e-12, 3.900240055212897e-12...</td>\n",
       "      <td>[[1.352778930250213e-11, 1.1715759288507284e-1...</td>\n",
       "      <td>[[2.244400143918748e-12, 2.1496906832075234e-1...</td>\n",
       "      <td>[[1.4346702299833915e-12, 1.371637549130069e-1...</td>\n",
       "    </tr>\n",
       "    <tr>\n",
       "      <th>2</th>\n",
       "      <td>[[1.77545916229763e-11, 1.503842985629786e-11,...</td>\n",
       "      <td>[[1.5144442232845256e-11, 9.746412898822588e-1...</td>\n",
       "      <td>[[4.601417432047582e-12, 3.10749460989545e-12,...</td>\n",
       "      <td>[[2.5355439045856496e-12, 1.514508570768111e-1...</td>\n",
       "    </tr>\n",
       "    <tr>\n",
       "      <th>3</th>\n",
       "      <td>[[2.0842329510712477e-11, 2.134335984938621e-1...</td>\n",
       "      <td>[[6.307939971183569e-12, 5.9933168999047914e-1...</td>\n",
       "      <td>[[2.4580017989504238e-12, 2.21624499756571e-12...</td>\n",
       "      <td>[[6.430604991548031e-13, 4.916025706440751e-13...</td>\n",
       "    </tr>\n",
       "    <tr>\n",
       "      <th>4</th>\n",
       "      <td>[[3.033237749231775e-11, 2.8523254981257923e-1...</td>\n",
       "      <td>[[1.4375941111608865e-11, 1.1167324943849491e-...</td>\n",
       "      <td>[[2.485606582082101e-12, 1.6483376039866362e-1...</td>\n",
       "      <td>[[7.182520182965874e-13, 3.668047884758458e-13...</td>\n",
       "    </tr>\n",
       "    <tr>\n",
       "      <th>...</th>\n",
       "      <td>...</td>\n",
       "      <td>...</td>\n",
       "      <td>...</td>\n",
       "      <td>...</td>\n",
       "    </tr>\n",
       "    <tr>\n",
       "      <th>194</th>\n",
       "      <td>[[5.190696250865127e-12, 5.800103187496318e-12...</td>\n",
       "      <td>[[3.806466201887054e-12, 4.770854409093566e-12...</td>\n",
       "      <td>[[2.057818722739706e-12, 2.2393673627688136e-1...</td>\n",
       "      <td>[[5.710895178710288e-13, 6.183369728134512e-13...</td>\n",
       "    </tr>\n",
       "    <tr>\n",
       "      <th>195</th>\n",
       "      <td>[[1.5255216287075657e-11, 1.4988756209783463e-...</td>\n",
       "      <td>[[7.383552124639357e-12, 7.175966791853969e-12...</td>\n",
       "      <td>[[2.0038919849635332e-12, 1.7201334164041013e-...</td>\n",
       "      <td>[[7.864863287552666e-13, 7.300068215804419e-13...</td>\n",
       "    </tr>\n",
       "    <tr>\n",
       "      <th>196</th>\n",
       "      <td>[[7.494570758713223e-12, 6.539565031703325e-12...</td>\n",
       "      <td>[[4.598058046616944e-12, 3.5410559954670837e-1...</td>\n",
       "      <td>[[2.430341428088779e-12, 1.8403054050930294e-1...</td>\n",
       "      <td>[[1.0848870871163229e-12, 6.805722593461184e-1...</td>\n",
       "    </tr>\n",
       "    <tr>\n",
       "      <th>197</th>\n",
       "      <td>[[1.961321757938959e-11, 1.8393396939975187e-1...</td>\n",
       "      <td>[[1.4114360883749916e-11, 1.1291570939532615e-...</td>\n",
       "      <td>[[3.0136528970136133e-12, 2.3876488541999683e-...</td>\n",
       "      <td>[[9.64686905001567e-13, 7.227182210754544e-13,...</td>\n",
       "    </tr>\n",
       "    <tr>\n",
       "      <th>198</th>\n",
       "      <td>[[9.367301387743764e-12, 9.538365578564233e-12...</td>\n",
       "      <td>[[4.410614732468948e-12, 4.318871683155773e-12...</td>\n",
       "      <td>[[2.5213262903054093e-12, 2.4776352051131394e-...</td>\n",
       "      <td>[[9.524349990876596e-13, 9.133851937755314e-13...</td>\n",
       "    </tr>\n",
       "  </tbody>\n",
       "</table>\n",
       "<p>199 rows × 4 columns</p>\n",
       "</div>"
      ],
      "text/plain": [
       "                                                 theta  \\\n",
       "0    [[9.253301751571058e-12, 8.31307414294401e-12,...   \n",
       "1    [[4.249865002541282e-12, 3.900240055212897e-12...   \n",
       "2    [[1.77545916229763e-11, 1.503842985629786e-11,...   \n",
       "3    [[2.0842329510712477e-11, 2.134335984938621e-1...   \n",
       "4    [[3.033237749231775e-11, 2.8523254981257923e-1...   \n",
       "..                                                 ...   \n",
       "194  [[5.190696250865127e-12, 5.800103187496318e-12...   \n",
       "195  [[1.5255216287075657e-11, 1.4988756209783463e-...   \n",
       "196  [[7.494570758713223e-12, 6.539565031703325e-12...   \n",
       "197  [[1.961321757938959e-11, 1.8393396939975187e-1...   \n",
       "198  [[9.367301387743764e-12, 9.538365578564233e-12...   \n",
       "\n",
       "                                                 alpha  \\\n",
       "0    [[1.359441473560296e-11, 1.113437502887364e-11...   \n",
       "1    [[1.352778930250213e-11, 1.1715759288507284e-1...   \n",
       "2    [[1.5144442232845256e-11, 9.746412898822588e-1...   \n",
       "3    [[6.307939971183569e-12, 5.9933168999047914e-1...   \n",
       "4    [[1.4375941111608865e-11, 1.1167324943849491e-...   \n",
       "..                                                 ...   \n",
       "194  [[3.806466201887054e-12, 4.770854409093566e-12...   \n",
       "195  [[7.383552124639357e-12, 7.175966791853969e-12...   \n",
       "196  [[4.598058046616944e-12, 3.5410559954670837e-1...   \n",
       "197  [[1.4114360883749916e-11, 1.1291570939532615e-...   \n",
       "198  [[4.410614732468948e-12, 4.318871683155773e-12...   \n",
       "\n",
       "                                              beta_low  \\\n",
       "0    [[3.0879667399053564e-12, 2.0339736749184162e-...   \n",
       "1    [[2.244400143918748e-12, 2.1496906832075234e-1...   \n",
       "2    [[4.601417432047582e-12, 3.10749460989545e-12,...   \n",
       "3    [[2.4580017989504238e-12, 2.21624499756571e-12...   \n",
       "4    [[2.485606582082101e-12, 1.6483376039866362e-1...   \n",
       "..                                                 ...   \n",
       "194  [[2.057818722739706e-12, 2.2393673627688136e-1...   \n",
       "195  [[2.0038919849635332e-12, 1.7201334164041013e-...   \n",
       "196  [[2.430341428088779e-12, 1.8403054050930294e-1...   \n",
       "197  [[3.0136528970136133e-12, 2.3876488541999683e-...   \n",
       "198  [[2.5213262903054093e-12, 2.4776352051131394e-...   \n",
       "\n",
       "                                             beta_high  \n",
       "0    [[2.1921357814862212e-12, 1.4935337569369765e-...  \n",
       "1    [[1.4346702299833915e-12, 1.371637549130069e-1...  \n",
       "2    [[2.5355439045856496e-12, 1.514508570768111e-1...  \n",
       "3    [[6.430604991548031e-13, 4.916025706440751e-13...  \n",
       "4    [[7.182520182965874e-13, 3.668047884758458e-13...  \n",
       "..                                                 ...  \n",
       "194  [[5.710895178710288e-13, 6.183369728134512e-13...  \n",
       "195  [[7.864863287552666e-13, 7.300068215804419e-13...  \n",
       "196  [[1.0848870871163229e-12, 6.805722593461184e-1...  \n",
       "197  [[9.64686905001567e-13, 7.227182210754544e-13,...  \n",
       "198  [[9.524349990876596e-13, 9.133851937755314e-13...  \n",
       "\n",
       "[199 rows x 4 columns]"
      ]
     },
     "execution_count": 15,
     "metadata": {},
     "output_type": "execute_result"
    }
   ],
   "source": [
    "X_df"
   ]
  },
  {
   "cell_type": "markdown",
   "id": "sharing-union",
   "metadata": {},
   "source": [
    "Covariances in a Data Frame!"
   ]
  },
  {
   "cell_type": "code",
   "execution_count": 16,
   "id": "christian-accused",
   "metadata": {},
   "outputs": [],
   "source": [
    " y = train_cases.Age.values"
   ]
  },
  {
   "cell_type": "code",
   "execution_count": 17,
   "id": "reserved-glucose",
   "metadata": {},
   "outputs": [],
   "source": [
    "from sklearn.linear_model import RidgeCV\n",
    "from sklearn.model_selection import cross_val_predict\n",
    "from sklearn.preprocessing import StandardScaler\n",
    "from sklearn.pipeline import make_pipeline\n",
    "\n",
    "import coffeine"
   ]
  },
  {
   "cell_type": "code",
   "execution_count": 18,
   "id": "instant-symposium",
   "metadata": {},
   "outputs": [],
   "source": [
    "filter_bank_model = coffeine.make_filter_bank_regressor(names=['theta', 'alpha', 'beta_low', 'beta_high'])"
   ]
  },
  {
   "cell_type": "code",
   "execution_count": 19,
   "id": "promotional-vancouver",
   "metadata": {
    "scrolled": false
   },
   "outputs": [
    {
     "data": {
      "text/plain": [
       "<matplotlib.collections.PathCollection at 0x149477c10>"
      ]
     },
     "execution_count": 19,
     "metadata": {},
     "output_type": "execute_result"
    },
    {
     "data": {
      "image/png": "[encoded data removed]",
      "text/plain": [
       "<Figure size 432x288 with 1 Axes>"
      ]
     },
     "metadata": {
      "needs_background": "light"
     },
     "output_type": "display_data"
    }
   ],
   "source": [
    "y_pred = cross_val_predict(estimator=filter_bank_model, X=X_df, y=y)\n",
    "plt.scatter(y, y_pred)"
   ]
  },
  {
   "cell_type": "code",
   "execution_count": 20,
   "id": "packed-theorem",
   "metadata": {},
   "outputs": [
    {
     "name": "stdout",
     "output_type": "stream",
     "text": [
      "-0.2049128670205851\n"
     ]
    }
   ],
   "source": [
    "from sklearn.metrics import r2_score\n",
    "print(r2_score(y_true=y, y_pred=y_pred))"
   ]
  },
  {
   "cell_type": "markdown",
   "id": "assumed-heather",
   "metadata": {},
   "source": [
    "From a theoretical standpoint and empirically, this type of model is expected to work better. We can think a moment together about it. It is most likely that something is seriously wrong about the way we are using and processing the data, which can be very tricky when first encountering a new curated dataset. Something to be clarified in the nearer future; **But we're working on it together with the CHBM team**!"
   ]
  }
 ],
 "metadata": {
  "kernelspec": {
   "display_name": "Python 3.9.1 64-bit ('base': conda)",
   "language": "python",
   "name": "python39164bitbasecondae0fabca903dd46b1afc808730ddf177a"
  },
  "language_info": {
   "codemirror_mode": {
    "name": "ipython",
    "version": 3
   },
   "file_extension": ".py",
   "mimetype": "text/x-python",
   "name": "python",
   "nbconvert_exporter": "python",
   "pygments_lexer": "ipython3",
   "version": "3.9.1"
  }
 },
 "nbformat": 4,
 "nbformat_minor": 5
}
